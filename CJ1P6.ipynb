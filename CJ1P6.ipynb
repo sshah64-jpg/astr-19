{
 "cells": [
  {
   "cell_type": "markdown",
   "id": "33f29f14",
   "metadata": {},
   "source": [
    "Defining the function sin(x)"
   ]
  },
  {
   "cell_type": "code",
   "execution_count": 5,
   "id": "d4a3efcb",
   "metadata": {},
   "outputs": [],
   "source": [
    "import math\n",
    "import numpy as np\n",
    "\n",
    "def sin(x):\n",
    "    return math.sin(x)\n"
   ]
  },
  {
   "cell_type": "markdown",
   "id": "09c46301",
   "metadata": {},
   "source": [
    "Defining the function cos(x)"
   ]
  },
  {
   "cell_type": "code",
   "execution_count": 6,
   "id": "6112916e",
   "metadata": {},
   "outputs": [],
   "source": [
    "def cos(x):\n",
    "    return math.cos(x)\n"
   ]
  },
  {
   "cell_type": "markdown",
   "id": "cbc45ed6",
   "metadata": {},
   "source": [
    "Tabulate Sin and Cos"
   ]
  },
  {
   "cell_type": "code",
   "execution_count": 7,
   "id": "efb64491",
   "metadata": {},
   "outputs": [],
   "source": [
    "x_values = np.linspace(0, 2, 1000)\n",
    "\n",
    "sin_values = np.array([sin(x) for x in x_values])\n",
    "cos_values = np.array([cos(x) for x in x_values])\n"
   ]
  },
  {
   "cell_type": "markdown",
   "id": "bd587039",
   "metadata": {},
   "source": [
    "For Loop to print out 10 Entries"
   ]
  },
  {
   "cell_type": "code",
   "execution_count": 8,
   "id": "0ca94e2b",
   "metadata": {},
   "outputs": [
    {
     "name": "stdout",
     "output_type": "stream",
     "text": [
      "   0.00000         0.00000         1.00000\n",
      "   0.00200         0.00200         1.00000\n",
      "   0.00400         0.00400         0.99999\n",
      "   0.00601         0.00601         0.99998\n",
      "   0.00801         0.00801         0.99997\n",
      "   0.01001         0.01001         0.99995\n",
      "   0.01201         0.01201         0.99993\n",
      "   0.01401         0.01401         0.99990\n",
      "   0.01602         0.01602         0.99987\n",
      "   0.01802         0.01802         0.99984\n"
     ]
    }
   ],
   "source": [
    "for i in range(10):\n",
    "    print(f\"{x_values[i]:10.5f} {sin_values[i]:15.5f} {cos_values[i]:15.5f}\")"
   ]
  }
 ],
 "metadata": {
  "kernelspec": {
   "display_name": "Python 3",
   "language": "python",
   "name": "python3"
  },
  "language_info": {
   "codemirror_mode": {
    "name": "ipython",
    "version": 3
   },
   "file_extension": ".py",
   "mimetype": "text/x-python",
   "name": "python",
   "nbconvert_exporter": "python",
   "pygments_lexer": "ipython3",
   "version": "3.9.6"
  }
 },
 "nbformat": 4,
 "nbformat_minor": 5
}
